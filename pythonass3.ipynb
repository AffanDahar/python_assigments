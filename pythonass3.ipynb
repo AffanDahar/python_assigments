{
 "cells": [
  {
   "cell_type": "code",
   "execution_count": 1,
   "metadata": {},
   "outputs": [
    {
     "name": "stdout",
     "output_type": "stream",
     "text": [
      "Welcome to Calculator\n",
      "Enter 1st Number: 4\n",
      "Please choose your Operator '+' '-' '/' '*' '**' : /\n",
      "Enter 2nd Number: 6\n",
      "4  /  6  =  0.6666666666666666\n"
     ]
    }
   ],
   "source": [
    "#1. Make a calculator using Python with addition , subtraction , multiplication , division and power.\n",
    "print(\"Welcome to Calculator\")\n",
    "val1 = int(input(\"Enter 1st Number: \"))\n",
    "op = input(\"Please choose your Operator '+' '-' '/' '*' '**' : \")\n",
    "\n",
    "if op == \"+\":\n",
    "    val2 = int(input(\"Enter 2nd Number: \"))\n",
    "    val = val1 + val2\n",
    "    print(val1,\" + \", val2,\" = \",val)\n",
    "\n",
    "if op == \"-\":\n",
    "    val2 = int(input(\"Enter 2nd Number: \"))\n",
    "    val = val1 - val2\n",
    "    print(val1,\" - \", val2,\" = \",val)\n",
    "\n",
    "if op == \"/\":\n",
    "    val2 = int(input(\"Enter 2nd Number: \"))\n",
    "    val = val1 / val2\n",
    "    print(val1,\" / \", val2,\" = \",val)\n",
    "    \n",
    "if op == \"*\":\n",
    "    val2 = int(input(\"Enter 2nd Number: \"))\n",
    "    val = val1 * val2\n",
    "    print(val1,\" x \", val2,\" = \",val)\n",
    "    \n",
    "if op == \"**\":\n",
    "    val2 = int(input(\"Enter 2nd Number: \"))\n",
    "    val = val1 ** val2\n",
    "    print(val1,\"**\", val2,\" = \",val)"
   ]
  },
  {
   "cell_type": "code",
   "execution_count": 3,
   "metadata": {},
   "outputs": [
    {
     "name": "stdout",
     "output_type": "stream",
     "text": [
      "Numeric Value find in list:  5\n",
      "Numeric Value find in list:  14\n",
      "Numeric Value find in list:  133\n",
      "Numeric Value find in list:  64\n"
     ]
    }
   ],
   "source": [
    "# 2. Write a program to check if there is any numeric value in list using for loop\n",
    "mylist = [\"Affan\", 5, \"Dahar\", 14, 133, \"python\", 64, \"Pakistan\"]\n",
    "x = 0\n",
    "num = type(x)\n",
    "for i in mylist:\n",
    "    m = type(i)\n",
    "    if m == num:\n",
    "        print(\"Numeric Value find in list: \",i)\n",
    "    else:\n",
    "        continue"
   ]
  },
  {
   "cell_type": "code",
   "execution_count": 4,
   "metadata": {},
   "outputs": [
    {
     "data": {
      "text/plain": [
       "{'a': 10, 'b': 20, 'c': 30, 'd': 40}"
      ]
     },
     "execution_count": 4,
     "metadata": {},
     "output_type": "execute_result"
    }
   ],
   "source": [
    "# 3. Write a Python script to add a key to a dictionary\n",
    "my_dict = {'a': 10, 'b':20, 'c':30}\n",
    "\n",
    "my_dict[\"d\"] = 40    \n",
    "\n",
    "my_dict"
   ]
  },
  {
   "cell_type": "code",
   "execution_count": 5,
   "metadata": {},
   "outputs": [
    {
     "name": "stdout",
     "output_type": "stream",
     "text": [
      "Sum of Numeric Values is:  1080\n"
     ]
    }
   ],
   "source": [
    "# 4. Write a Python program to sum all the numeric items in a dictionary\n",
    "dict = {'a': 100, 'b':210, 'c':320, 'd':450 }\n",
    "\n",
    "x = sum(dict.values())\n",
    "\n",
    "print(\"Sum of Numeric Values is: \",x)"
   ]
  },
  {
   "cell_type": "code",
   "execution_count": 6,
   "metadata": {},
   "outputs": [
    {
     "name": "stdout",
     "output_type": "stream",
     "text": [
      "Duplicate Values are :  [11, 23, 'Affan', 44, 'karachi']\n"
     ]
    }
   ],
   "source": [
    "# 5. Write a program to identify duplicate values from list\n",
    "newlist = [11,23,67,\"Affan\",44,33,23,44,11,11,\"karachi\",\"Affan\",\"karachi\"]\n",
    "repeated = []\n",
    "\n",
    "for i in newlist:\n",
    "    a = newlist.count(i)\n",
    "    if a > 1:\n",
    "        if i in repeated:\n",
    "            continue\n",
    "        else:\n",
    "            repeated.append(i)\n",
    "            \n",
    "print(\"Duplicate Values are : \",repeated)"
   ]
  },
  {
   "cell_type": "code",
   "execution_count": 9,
   "metadata": {},
   "outputs": [
    {
     "name": "stdout",
     "output_type": "stream",
     "text": [
      "Enter key to check existence: Name\n",
      "The key : Name Is Already Exist\n"
     ]
    }
   ],
   "source": [
    "# 6. Write a Python script to check if a given key already exists in a dictionary\n",
    "student = {'Name': 'Affan', 'Rollno': '072', 'Course': 'Python',\n",
    "          'Age': 22, 'City': 'Karachi', 'Country': 'Pakistan'}\n",
    "\n",
    "key_to_check = input(\"Enter key to check existence: \")\n",
    "if key_to_check in student.keys():\n",
    "    print(\"The key : \" + key_to_check + \" Is Already Exist\")\n",
    "else:\n",
    "    print(\"The key : \" + key_to_check + \" Is Not Exist\")"
   ]
  },
  {
   "cell_type": "code",
   "execution_count": null,
   "metadata": {},
   "outputs": [],
   "source": []
  },
  {
   "cell_type": "code",
   "execution_count": null,
   "metadata": {},
   "outputs": [],
   "source": []
  }
 ],
 "metadata": {
  "kernelspec": {
   "display_name": "Python 3",
   "language": "python",
   "name": "python3"
  },
  "language_info": {
   "codemirror_mode": {
    "name": "ipython",
    "version": 3
   },
   "file_extension": ".py",
   "mimetype": "text/x-python",
   "name": "python",
   "nbconvert_exporter": "python",
   "pygments_lexer": "ipython3",
   "version": "3.7.4"
  }
 },
 "nbformat": 4,
 "nbformat_minor": 2
}
