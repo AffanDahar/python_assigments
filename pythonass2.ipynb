{
 "cells": [
  {
   "cell_type": "code",
   "execution_count": 1,
   "metadata": {},
   "outputs": [],
   "source": [
    "# 1. Write a program which takes 5 inputs from user for different subject’s marks, total it and generate mark sheet using grades?"
   ]
  },
  {
   "cell_type": "code",
   "execution_count": 2,
   "metadata": {},
   "outputs": [
    {
     "name": "stdout",
     "output_type": "stream",
     "text": [
      "Enter the marks of 5 subjest for marks Sheet\n",
      "Enter Marks for Sub 1: 74\n",
      "Enter Marks for Sub 2: 75\n",
      "Enter Marks for Sub 3: 68\n",
      "Enter Marks for Sub 4: 83\n",
      "Enter Marks for Sub 5: 62\n",
      "Congratulations you got Grade A\n"
     ]
    }
   ],
   "source": [
    "print(\"Enter the marks of 5 subjest for marks Sheet\")\n",
    "a = int(input(\"Enter Marks for Sub 1: \"))\n",
    "b = int(input(\"Enter Marks for Sub 2: \"))\n",
    "c = int(input(\"Enter Marks for Sub 3: \"))\n",
    "d = int(input(\"Enter Marks for Sub 4: \"))\n",
    "e = int(input(\"Enter Marks for Sub 5: \"))\n",
    "per = (a+b+c+d+e)/5\n",
    "per = int(per)\n",
    "\n",
    "if per >= 0 and per <33:\n",
    "    print(\"Fail\")\n",
    "elif per >= 33 and per<40:\n",
    "    print(\"Congratulations you got Grade E\")\n",
    "elif per >= 40 and per<50:\n",
    "    print(\"Congratulations you got Grade D\")\n",
    "elif per>=50 and per<60:\n",
    "    print(\"Congratulations you got Grade C\")\n",
    "elif per>=60 and per<70:\n",
    "    print(\"Congratulations you got Grade B\")\n",
    "elif per>=70 and per<80:\n",
    "    print(\"Congratulations you got Grade A\")\n",
    "elif per>=80 and per<=100:\n",
    "    print(\"Congratulations you got Grade A+\")\n",
    "else:\n",
    "    print(\"Not valid\")"
   ]
  },
  {
   "cell_type": "code",
   "execution_count": 4,
   "metadata": {},
   "outputs": [
    {
     "name": "stdout",
     "output_type": "stream",
     "text": [
      "Enter your number to check Even or Odd: 33\n",
      "Number is Odd\n"
     ]
    }
   ],
   "source": [
    "# 2. Write a program which take input from user and identify that the given number is even or odd?\n",
    "\n",
    "x = int(input(\"Enter your number to check Even or Odd: \"))\n",
    "if (x % 2) == 0:\n",
    "    print(\"Number is Even\")\n",
    "else:\n",
    "    print(\"Number is Odd\")"
   ]
  },
  {
   "cell_type": "code",
   "execution_count": 5,
   "metadata": {},
   "outputs": [
    {
     "name": "stdout",
     "output_type": "stream",
     "text": [
      "6\n"
     ]
    }
   ],
   "source": [
    "# 3. Write a program which print the length of the list?\n",
    "name = [\"Affan\", \"Sarmad\", \"Rafay\", \"Mutahir\", \"Mazhar\", \"Hassan\"]\n",
    "print(len(name))"
   ]
  },
  {
   "cell_type": "code",
   "execution_count": 6,
   "metadata": {},
   "outputs": [
    {
     "name": "stdout",
     "output_type": "stream",
     "text": [
      "Sum of numeric list is : 898\n"
     ]
    }
   ],
   "source": [
    "# 4. Write a Python program to sum all the numeric items in a list?\n",
    "num = [23, 131, 201, 30, 151, 18, 155, 189]\n",
    "add = 0\n",
    "for i in num:\n",
    "    add +=i\n",
    "print(\"Sum of numeric list is :\",add)"
   ]
  },
  {
   "cell_type": "code",
   "execution_count": 7,
   "metadata": {},
   "outputs": [
    {
     "name": "stdout",
     "output_type": "stream",
     "text": [
      "330\n"
     ]
    }
   ],
   "source": [
    "# 5. Write a Python program to get the largest number from a numeric list.\n",
    "num = [11, 101, 203, 330, 251, 280, 55, 89]\n",
    "largest = 0\n",
    "for  i in num:\n",
    "    if i >= largest:\n",
    "        largest = i\n",
    "print(largest)"
   ]
  },
  {
   "cell_type": "code",
   "execution_count": 9,
   "metadata": {},
   "outputs": [
    {
     "data": {
      "text/plain": [
       "[2, 3, 1, 1, 4, 3]"
      ]
     },
     "execution_count": 9,
     "metadata": {},
     "output_type": "execute_result"
    }
   ],
   "source": [
    "\n",
    "6. # Take a list, say for example this one: a = [1, 1, 2, 3, 5, 8, 13, 21, 34, 55, 89] and write a program that prints out all the elements of the list that are less than 5\n",
    "num = [2, 3, 5, 15, 18, 13, 21, 34, 55, 89, 1, 1, 4,3]\n",
    "newlist = []\n",
    "for i in num:\n",
    "    if i < 5:\n",
    "        newlist.append(i)\n",
    "newlist"
   ]
  },
  {
   "cell_type": "code",
   "execution_count": null,
   "metadata": {},
   "outputs": [],
   "source": []
  }
 ],
 "metadata": {
  "kernelspec": {
   "display_name": "Python 3",
   "language": "python",
   "name": "python3"
  },
  "language_info": {
   "codemirror_mode": {
    "name": "ipython",
    "version": 3
   },
   "file_extension": ".py",
   "mimetype": "text/x-python",
   "name": "python",
   "nbconvert_exporter": "python",
   "pygments_lexer": "ipython3",
   "version": "3.7.4"
  }
 },
 "nbformat": 4,
 "nbformat_minor": 2
}
