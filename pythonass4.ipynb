{
 "cells": [
  {
   "cell_type": "code",
   "execution_count": 1,
   "metadata": {},
   "outputs": [
    {
     "name": "stdout",
     "output_type": "stream",
     "text": [
      "Affan\n",
      "Dahar\n",
      "22\n",
      "{'First Name': 'Affan', 'Last Name': 'Dahar', 'Age': '22', 'Qualification': 'Intermediate'}\n",
      "{'First Name': 'Affan', 'Last Name': 'Dahar', 'Age': '22', 'Qualification': 'Under Graduate'}\n",
      "{'First Name': 'Affan', 'Last Name': 'Dahar', 'Age': '22'}\n"
     ]
    }
   ],
   "source": [
    "data = { \"First Name\" : \"Affan\", \"Last Name\" : \"Dahar\",\"Age\" : \"22\"\n",
    "}\n",
    "print(data['First Name'])\n",
    "print(data['Last Name'])\n",
    "print(data['Age'])\n",
    "data['Qualification'] = 'Intermediate'\n",
    "print(data)\n",
    "data_new = {'Qualification' : 'Under Graduate'}\n",
    "data.update(data_new)\n",
    "print(data)\n",
    "del data['Qualification']\n",
    "print(data)"
   ]
  },
  {
   "cell_type": "code",
   "execution_count": 2,
   "metadata": {},
   "outputs": [
    {
     "name": "stdout",
     "output_type": "stream",
     "text": [
      "\n",
      "KARACHI\n",
      "\tCountry: Pakistan\n",
      "\tPopulation: 15,741,000\n",
      "\tFact: It is the Sixth largest city in the world by city population.\n",
      "\n",
      "HYDERABAD\n",
      "\tCountry: Pakistan\n",
      "\tPopulation: 5,734,601\n",
      "\tFact: It is the second-largest city in Sindh and fourth-largest in Pakistan.Hyderabad served as a provincial capital until the British transferred the capital to Karachi in 1843.\n",
      "\n",
      "ISLAMABAD\n",
      "\tCountry: Pakistan\n",
      "\tPopulation: 1,095,064\n",
      "\tFact: Islamabad is noted for its high standards of living, safety, and abundant greenery.\n"
     ]
    }
   ],
   "source": [
    "cities = {\n",
    "    \"Karachi\" : {\n",
    "        \"Country\" : \"Pakistan\",\n",
    "        \"Population\" : \"15,741,000\",\n",
    "        \"Fact\" : \"It is the Sixth largest city in the world by city population.\"\n",
    "    }, \n",
    "    \"Hyderabad\" : {\n",
    "        \"Country\" : \"Pakistan\",\n",
    "        \"Population\" : \"5,734,601\",\n",
    "        \"Fact\" : \"It is the second-largest city in Sindh and fourth-largest in Pakistan.Hyderabad served as a provincial capital until the British transferred the capital to Karachi in 1843.\"\n",
    "    },\n",
    "    \"Islamabad\" : {\n",
    "        \"Country\" : \"Pakistan\",\n",
    "        \"Population\" : \"1,095,064\",\n",
    "        \"Fact\" : \"Islamabad is noted for its high standards of living, safety, and abundant greenery.\"\n",
    "    }\n",
    "}\n",
    "for city, city_info in cities.items():\n",
    "    print(\"\\n\" + city.upper())\n",
    "    country = city_info['Country']\n",
    "    pop = city_info['Population']\n",
    "    fact = city_info['Fact']\n",
    "    print(\"\\tCountry: \" + country)\n",
    "    print(\"\\tPopulation: \" + pop)\n",
    "    print(\"\\tFact: \" + fact)"
   ]
  },
  {
   "cell_type": "code",
   "execution_count": 3,
   "metadata": {},
   "outputs": [
    {
     "name": "stdout",
     "output_type": "stream",
     "text": [
      "Welcome to Movie Theater\n",
      "\n",
      "Enter Your Age to get your Ticket: 3\n",
      "Your Ticket is Price is $10\n",
      "\n",
      "Enter Your Age to get your Ticket: 2\n",
      "Your Ticket is Free\n",
      "\n",
      "Enter Your Age to get your Ticket: 13\n",
      "Your Ticket is Price is $15\n",
      "\n",
      "Enter Your Age to get your Ticket: q\n",
      "Enjoy your Movie :)\n"
     ]
    }
   ],
   "source": [
    "print(\"Welcome to Movie Theater\")\n",
    "while True:\n",
    "    age = input(\"\\nEnter Your Age to get your Ticket: \")\n",
    "    if age == 'q':\n",
    "        print(\"Enjoy your Movie :)\")\n",
    "        break\n",
    "    elif int(age) < 3:\n",
    "        print(\"Your Ticket is Free\")\n",
    "    elif int(age) >= 3 and int(age) <= 12:\n",
    "        print(\"Your Ticket is Price is $10\")\n",
    "    elif int(age) > 12:\n",
    "        print(\"Your Ticket is Price is $15\")                \n",
    "    else:\n",
    "        print(\"Invalid Input\")"
   ]
  },
  {
   "cell_type": "code",
   "execution_count": 4,
   "metadata": {},
   "outputs": [
    {
     "name": "stdout",
     "output_type": "stream",
     "text": [
      " My favorite books is Alchemist\n",
      "\n"
     ]
    }
   ],
   "source": [
    "\n",
    "def favorite_book(title):\n",
    "    print(\" My favorite books is \" + title + \"\\n\" )\n",
    "\n",
    "favorite_book('Alchemist')"
   ]
  },
  {
   "cell_type": "code",
   "execution_count": 5,
   "metadata": {},
   "outputs": [
    {
     "name": "stdout",
     "output_type": "stream",
     "text": [
      "\n",
      "You have 3 chances Remaining\n",
      "Guess a Number between 1 to 50 :5\n",
      "Your guess number is smaller than win number\n",
      "\n",
      "You have 2 chances Remaining\n",
      "Guess a Number between 1 to 50 :10\n",
      "Your guess number is greater than win number\n",
      "\n",
      "You have 1 chances Remaining\n",
      "Guess a Number between 1 to 50 :8\n",
      "Your guess number is greater than win number\n",
      "\n",
      "Sorry You Lose, Please Try Again\n"
     ]
    }
   ],
   "source": [
    "import random\n",
    "\n",
    "win_number = random.randint(1,50)\n",
    "counter = 0\n",
    "chances = 3\n",
    "\n",
    "for i in range(3):\n",
    "    print(f\"\\nYou have {chances} chances Remaining\")\n",
    "    num = int(input(\"Guess a Number between 1 to 50 :\"))\n",
    "    chances -= 1\n",
    "    \n",
    "    if num == win_number:\n",
    "        counter += 1\n",
    "        print(\"\\nCongratulations, You Guess Correct Number in attempt no: \",counter)\n",
    "        break\n",
    "    \n",
    "    else:\n",
    "        \n",
    "        if num < win_number:\n",
    "            print(\"Your guess number is smaller than win number\")\n",
    "        \n",
    "        else:\n",
    "            print(\"Your guess number is greater than win number\")\n",
    "        \n",
    "        counter += 1\n",
    "        if counter == 3:\n",
    "            print(\"\\nSorry You Lose, Please Try Again\")"
   ]
  },
  {
   "cell_type": "code",
   "execution_count": null,
   "metadata": {},
   "outputs": [],
   "source": []
  }
 ],
 "metadata": {
  "kernelspec": {
   "display_name": "Python 3",
   "language": "python",
   "name": "python3"
  },
  "language_info": {
   "codemirror_mode": {
    "name": "ipython",
    "version": 3
   },
   "file_extension": ".py",
   "mimetype": "text/x-python",
   "name": "python",
   "nbconvert_exporter": "python",
   "pygments_lexer": "ipython3",
   "version": "3.7.4"
  }
 },
 "nbformat": 4,
 "nbformat_minor": 2
}
